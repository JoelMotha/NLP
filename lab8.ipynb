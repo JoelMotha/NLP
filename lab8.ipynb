{
 "cells": [
  {
   "cell_type": "code",
   "execution_count": 1,
   "metadata": {},
   "outputs": [
    {
     "name": "stdout",
     "output_type": "stream",
     "text": [
      "WARNING:tensorflow:From C:\\Users\\Joel\\AppData\\Roaming\\Python\\Python312\\site-packages\\tf_keras\\src\\losses.py:2976: The name tf.losses.sparse_softmax_cross_entropy is deprecated. Please use tf.compat.v1.losses.sparse_softmax_cross_entropy instead.\n",
      "\n"
     ]
    },
    {
     "name": "stderr",
     "output_type": "stream",
     "text": [
      "Device set to use cuda:0\n"
     ]
    },
    {
     "name": "stdout",
     "output_type": "stream",
     "text": [
      "Question: Who was the educational visionary behind CHRIST (Deemed to be University)?\n",
      "Answer: St Kuriakose Elias Chavara\n",
      "\n",
      "Question: What congregation did St Kuriakose Elias Chavara establish in 1831?\n",
      "Answer: Carmelites of Mary Immaculate\n",
      "\n",
      "Question: In which year was CHRIST (Deemed to be University) originally established as 'Christ College'?\n",
      "Answer: 1969\n",
      "\n",
      "Question: What were some of the path-breaking initiatives taken by the university in Indian higher education?\n",
      "Answer: introduction of innovative and modern curricula\n",
      "\n",
      "Question: How did the university ensure the adoption of global higher education practices?\n",
      "Answer: with the support of creative and dedicated staff\n",
      "\n"
     ]
    }
   ],
   "source": [
    "from transformers import pipeline\n",
    "\n",
    "# Load the question-answering pipeline\n",
    "qa_pipeline = pipeline(\"question-answering\", model=\"deepset/roberta-base-squad2\")\n",
    "\n",
    "# Context for the QA system\n",
    "context = \"\"\"CHRIST (Deemed to be University) was born out of the educational vision of St Kuriakose Elias Chavara, \n",
    "    an educationalist and social reformer of the nineteenth century in South India. He founded the first Catholic \n",
    "    indigenous congregation, Carmelites of Mary Immaculate (CMI), in 1831 which administers CHRIST (Deemed to be University). \n",
    "    CHRIST (Deemed to be University) was established as ‘Christ College’ in 1969. It undertook path-breaking initiatives in \n",
    "    Indian higher education with the introduction of innovative and modern curricula, insistence on academic discipline, \n",
    "    imparting of Holistic Education and adoption of global higher education practices with the support of creative and dedicated staff.\"\"\"\n",
    "\n",
    "# List of questions\n",
    "questions = [\n",
    "    \"Who was the educational visionary behind CHRIST (Deemed to be University)?\",\n",
    "    \"What congregation did St Kuriakose Elias Chavara establish in 1831?\",\n",
    "    \"In which year was CHRIST (Deemed to be University) originally established as 'Christ College'?\",\n",
    "    \"What were some of the path-breaking initiatives taken by the university in Indian higher education?\",\n",
    "    \"How did the university ensure the adoption of global higher education practices?\"\n",
    "]\n",
    "\n",
    "# Answering the questions\n",
    "for question in questions:\n",
    "    answer = qa_pipeline(question=question, context=context)\n",
    "    print(f\"Question: {question}\")\n",
    "    print(f\"Answer: {answer['answer']}\\n\")\n"
   ]
  },
  {
   "cell_type": "code",
   "execution_count": null,
   "metadata": {},
   "outputs": [],
   "source": []
  }
 ],
 "metadata": {
  "kernelspec": {
   "display_name": "base",
   "language": "python",
   "name": "python3"
  },
  "language_info": {
   "codemirror_mode": {
    "name": "ipython",
    "version": 3
   },
   "file_extension": ".py",
   "mimetype": "text/x-python",
   "name": "python",
   "nbconvert_exporter": "python",
   "pygments_lexer": "ipython3",
   "version": "3.12.7"
  }
 },
 "nbformat": 4,
 "nbformat_minor": 2
}
