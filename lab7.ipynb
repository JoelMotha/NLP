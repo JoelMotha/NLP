{
 "cells": [
  {
   "cell_type": "code",
   "execution_count": 1,
   "metadata": {},
   "outputs": [
    {
     "name": "stderr",
     "output_type": "stream",
     "text": [
      "[nltk_data] Downloading package punkt to\n",
      "[nltk_data]     C:\\Users\\Joel\\AppData\\Roaming\\nltk_data...\n",
      "[nltk_data]   Package punkt is already up-to-date!\n",
      "[nltk_data] Downloading package stopwords to\n",
      "[nltk_data]     C:\\Users\\Joel\\AppData\\Roaming\\nltk_data...\n",
      "[nltk_data]   Package stopwords is already up-to-date!\n"
     ]
    },
    {
     "name": "stdout",
     "output_type": "stream",
     "text": [
      "Welcome to the Story/Poem Generator!\n",
      "\n",
      "Generated Story/Poem:\n",
      "Once upon a time in a mystical land, honey embarked on an adventure filled with mystery and whisper. However, the journey was far from easy. honey faced numerous challenges, including a powerful sorcerer and an ancient curse. The stars guided honey through enchanted forests, where whispers of destiny echoed through the trees. In the end, honey discovered the true meaning of courage and magic, unlocking a hidden power within.\n"
     ]
    }
   ],
   "source": [
    "import random\n",
    "import re\n",
    "import nltk\n",
    "from nltk.tokenize import word_tokenize, sent_tokenize\n",
    "from nltk.corpus import stopwords\n",
    "from nltk.probability import FreqDist\n",
    "from collections import Counter\n",
    "\n",
    "def preprocess_text(text):\n",
    "    text = text.lower()\n",
    "    text = re.sub(r'[^a-zA-Z0-9\\s]', '', text)\n",
    "    words = word_tokenize(text)\n",
    "    words = [word for word in words if word not in stopwords.words('english')]\n",
    "    return words\n",
    "\n",
    "def generate_template_based_story(keywords, genre, min_words=50):\n",
    "    templates = {\n",
    "        \"fantasy\": [\n",
    "            \"Once upon a time in a mystical land, {0} embarked on an adventure filled with {1} and {2}. However, the journey was far from easy. {0} faced numerous challenges, including a powerful sorcerer and an ancient curse. The stars guided {0} through enchanted forests, where whispers of destiny echoed through the trees. In the end, {0} discovered the true meaning of courage and magic, unlocking a hidden power within.\",\n",
    "            \"Legends spoke of {0}, a hero destined to retrieve {1} from the depths of {2}. Many had tried before, but none had returned. Guided by an ancient prophecy, {0} ventured into the heart of darkness, where shadows danced and secrets lurked. With every step, {0} grew stronger, until the final confrontation with fate itself. In the moment of truth, {0} realized that true strength lay not in power, but in wisdom.\"\n",
    "        ],\n",
    "        \"horror\": [\n",
    "            \"In the dead of night, {0} stumbled upon a {1}, unaware of the {2} lurking in the shadows. The air was thick with fear as whispers called {0}'s name. With each step forward, the darkness seemed to close in, wrapping around {0} like a suffocating embrace. The cursed {1} loomed in the distance, but {0} had no choice but to enter, knowing {2} awaited inside. What lay beyond was beyond nightmares, beyond reason, and beyond escape. The walls dripped with shadows, and a sinister presence grew ever closer...\"\n",
    "        ],\n",
    "        \"romantic\": [\n",
    "            \"Under the shimmering moonlight, {0} met {1}, and their love story unfolded with {2}. Each moment spent together was like a dream, yet the world around them seemed determined to pull them apart. {0} held onto hope, believing that love could defy all odds. With every letter, every whisper, and every stolen glance, the bond between {0} and {1} grew stronger. Would fate be kind, or would love be lost to the tides of time? As the stars aligned, destiny revealed the answer only the heart could truly understand.\"\n",
    "        ],\n",
    "        \"sci-fi\": [\n",
    "            \"In the year 3021, {0} discovered {1}, an artifact capable of reshaping {2}. The universe was on the brink of chaos, and only {0} had the knowledge to harness its power. Traveling through wormholes and across uncharted galaxies, {0} encountered beings beyond imagination. With each decision, the fate of countless worlds hung in the balance. Could {0} master the artifact before it fell into the wrong hands?\",\n",
    "            \"The galaxy was at war, and only {0} knew the truth about {1}. As ships clashed and empires crumbled, {0} sought a hidden knowledge buried deep within {2}. But time was running out, and the fate of the cosmos rested on a single choice. Would {0} embrace the unknown, or would the universe fall into endless darkness?\"\n",
    "        ],\n",
    "        \"mystery\": [\n",
    "            \"Detective {0} had seen many cases, but none as perplexing as the {1} found at {2}. The clues led to a tangled web of secrets, each more sinister than the last. As the pieces fell into place, {0} realized the truth was far more dangerous than expected. Every shadow held a secret, every whisper a warning. The answer lay hidden, but was {0} ready for the truth?\",\n",
    "            \"It started with a single note left in {0}'s mailbox: \\\"Find {1} before it’s too late.\\\" The words haunted {0}, leading to a trail of cryptic messages scattered across {2}. As the mystery deepened, so did the danger. The closer {0} got to the truth, the more perilous the journey became. Would {0} solve the mystery in time, or would the answers be lost forever?\"\n",
    "        ],\n",
    "        \"adventure\": [\n",
    "            \"The call of the unknown led {0} to the ancient ruins of {1}. Legends spoke of a treasure hidden beyond {2}, but none who had sought it ever returned. With a heart full of courage and a map in hand, {0} ventured into the wild, facing dangers at every turn. The journey tested not only {0}'s strength but also the will to press on. Would fortune favor the bold, or was the legend merely a tale to keep explorers at bay?\",\n",
    "            \"Lost in the depths of {1}, {0} had to find a way out before nightfall. The wilderness was unforgiving, and survival depended on reaching {2} before it was too late. With determination and skill, {0} braved treacherous paths and unknown dangers. The adventure was only beginning, but would {0} make it through alive?\"\n",
    "        ]\n",
    "    }\n",
    "    \n",
    "    if genre not in templates:\n",
    "        genre = \"fantasy\"\n",
    "    \n",
    "    template_list = templates[genre]\n",
    "    template = random.choice(template_list)\n",
    "    \n",
    "    valid_keywords = preprocess_text(\" \".join(keywords))\n",
    "    while len(valid_keywords) < 3:\n",
    "        valid_keywords.append(random.choice([\"magic\", \"mystery\", \"shadow\", \"galaxy\", \"eternal\", \"whisper\", \"void\", \"secret\", \"legend\", \"nightmare\", \"quest\", \"treasure\", \"labyrinth\", \"paradox\", \"cipher\"]))\n",
    "    \n",
    "    story = template.format(*valid_keywords[:3])\n",
    "    \n",
    "    while len(story.split()) < min_words:\n",
    "        story += \" \" + random.choice([\n",
    "            \"The journey continued.\", \"Darkness loomed ahead.\", \"Hope flickered in the distance.\", \n",
    "            \"A secret yet to be revealed awaited.\", \"An unseen force whispered from the void.\",\n",
    "            \"Each step uncovered new mysteries.\", \"Fate had more in store than anyone realized.\",\n",
    "            \"The stars above seemed to hold an answer.\", \"A chilling wind carried whispers of the past.\"\n",
    "        ])\n",
    "    \n",
    "    return story\n",
    "\n",
    "def main():\n",
    "    print(\"Welcome to the Story/Poem Generator!\")\n",
    "    \n",
    "    try:\n",
    "        min_words = int(input(\"Enter minimum number of words: \").strip())\n",
    "        keywords = input(\"Enter keywords (comma-separated): \").split(',')\n",
    "        genre = input(\"Enter genre (fantasy, horror, romantic, sci-fi, mystery, adventure): \").strip().lower()\n",
    "    except ValueError:\n",
    "        print(\"Invalid input. Please enter numbers for minimum words.\")\n",
    "        return\n",
    "    \n",
    "    generated_text = generate_template_based_story([k.strip() for k in keywords], genre, min_words)\n",
    "    print(\"\\nGenerated Story/Poem:\")\n",
    "    print(generated_text)\n",
    "\n",
    "if __name__ == \"__main__\":\n",
    "    nltk.download('punkt')\n",
    "    nltk.download('stopwords')\n",
    "    main()\n"
   ]
  },
  {
   "cell_type": "code",
   "execution_count": null,
   "metadata": {},
   "outputs": [],
   "source": []
  }
 ],
 "metadata": {
  "kernelspec": {
   "display_name": "base",
   "language": "python",
   "name": "python3"
  },
  "language_info": {
   "codemirror_mode": {
    "name": "ipython",
    "version": 3
   },
   "file_extension": ".py",
   "mimetype": "text/x-python",
   "name": "python",
   "nbconvert_exporter": "python",
   "pygments_lexer": "ipython3",
   "version": "3.12.7"
  }
 },
 "nbformat": 4,
 "nbformat_minor": 2
}
